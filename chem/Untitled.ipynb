{
 "cells": [
  {
   "cell_type": "code",
   "execution_count": 1,
   "metadata": {},
   "outputs": [
    {
     "name": "stderr",
     "output_type": "stream",
     "text": [
      "reading smiles:  88%|████████▊ | 403760/456332 [11:36<01:35, 548.18it/s]RDKit WARNING: [17:06:20] WARNING: not removing hydrogen atom without neighbors\n",
      "RDKit WARNING: [17:06:20] WARNING: not removing hydrogen atom without neighbors\n",
      "reading smiles:  97%|█████████▋| 442786/456332 [12:49<00:22, 596.12it/s]RDKit WARNING: [17:07:32] WARNING: not removing hydrogen atom without neighbors\n",
      "RDKit WARNING: [17:07:32] WARNING: not removing hydrogen atom without neighbors\n",
      "reading smiles: 100%|█████████▉| 456210/456332 [13:10<00:00, 628.04it/s]RDKit WARNING: [17:07:54] WARNING: not removing hydrogen atom without neighbors\n",
      "RDKit WARNING: [17:07:54] WARNING: not removing hydrogen atom without neighbors\n",
      "reading smiles: 100%|█████████▉| 456331/456332 [13:10<00:00, 576.93it/s]\n"
     ]
    },
    {
     "name": "stdout",
     "output_type": "stream",
     "text": [
      "Initially kept 231 of 1310 properties.\n"
     ]
    }
   ],
   "source": [
    "import argparse\n",
    "import csv\n",
    "import collections\n",
    "import subprocess\n",
    "import tqdm\n",
    "import os\n",
    "\n",
    "import chemprop\n",
    "import numpy as np\n",
    "import rdkit\n",
    "\n",
    "CHEMBL_PATH = \"/data/scratch/fisch/third_party/chemprop/data/chembl.csv\"\n",
    "\n",
    "\n",
    "def filter_invalid_smiles(smiles):\n",
    "    if not smiles:\n",
    "        return True\n",
    "    mol = rdkit.Chem.MolFromSmiles(smiles)\n",
    "    if mol.GetNumHeavyAtoms() == 0:\n",
    "        return True\n",
    "    return False\n",
    "\n",
    "\n",
    "def load_dataset(path, N):\n",
    "    with open(path, \"r\") as f:\n",
    "        reader = csv.DictReader(f)\n",
    "        columns = reader.fieldnames\n",
    "        smiles_column = columns[0]\n",
    "        target_columns = columns[1:]\n",
    "\n",
    "        # Keep track of property --> list of molecules (by active/inactive).\n",
    "        property_to_smiles = collections.defaultdict(lambda: collections.defaultdict(list))\n",
    "\n",
    "        # Read in all the dataset smiles.\n",
    "        num_lines = int(subprocess.check_output([\"wc\", \"-l\", path], encoding=\"utf8\").split()[0])\n",
    "        for row in tqdm.tqdm(reader, total=num_lines, desc=\"reading smiles\"):\n",
    "            smiles = row[smiles_column]\n",
    "            if filter_invalid_smiles(smiles):\n",
    "                continue\n",
    "            scaffold = chemprop.data.scaffold.generate_scaffold(smiles)\n",
    "            for target in target_columns:\n",
    "                value = row[target]\n",
    "                if not value:\n",
    "                    continue\n",
    "                value = int(value)\n",
    "                property_to_smiles[target][value].append((scaffold, smiles))\n",
    "\n",
    "        # Filter properties with sufficient examples.\n",
    "        valid_properties = {}\n",
    "        for target, values in property_to_smiles.items():\n",
    "            if len(set([scaffold for scaffold, _ in values[0]])) < N:\n",
    "                continue\n",
    "            if len(set([scaffold for scaffold, _ in values[1]])) < N:\n",
    "                continue\n",
    "            valid_properties[target] = values\n",
    "\n",
    "        print(\"Initially kept %d of %d properties.\" % (len(valid_properties), len(property_to_smiles)))\n",
    "        return valid_properties\n",
    "\n",
    "\n",
    "def make_splits(dataset, num_test, num_val, num_train, N):\n",
    "    targets = list(dataset.keys())\n",
    "    np.random.shuffle(targets)\n",
    "\n",
    "    def _choose(values, exclude_scaffolds):\n",
    "        # Shuffle values.\n",
    "        np.random.shuffle(values)\n",
    "\n",
    "        # Filter to disjoint scaffolds.\n",
    "        scaffolds = set()\n",
    "        filtered = []\n",
    "        for scaffold, smiles in values:\n",
    "            if scaffold not in scaffolds and scaffold not in exclude_scaffolds:\n",
    "                filtered.append((scaffold, smiles))\n",
    "                scaffolds.add(scaffold)\n",
    "\n",
    "        # Sample N values.\n",
    "        if len(filtered) < N:\n",
    "            return None\n",
    "        samples = np.random.choice(len(filtered), N, replace=False)\n",
    "        return [filtered[i] for i in samples]\n",
    "\n",
    "    def _update_scaffolds(split, exclude_scaffolds):\n",
    "        for target in split:\n",
    "            for active in [0, 1]:\n",
    "                for scaffold, _ in dataset[target][active]:\n",
    "                    exclude_scaffolds.add(scaffold)\n",
    "\n",
    "    # Filter overlaps.\n",
    "    used = set()\n",
    "\n",
    "    # Gather test properties.\n",
    "    test = []\n",
    "    filtered = 0\n",
    "    for i, target in enumerate(targets):\n",
    "        if len(test) == num_test:\n",
    "            break\n",
    "        include = True\n",
    "        for active in [0, 1]:\n",
    "            samples = _choose(dataset[target][active], used)\n",
    "            if not samples:\n",
    "                include = False\n",
    "                continue\n",
    "            dataset[target][active] = samples\n",
    "        if include:\n",
    "            test.append(target)\n",
    "        else:\n",
    "            filtered += 1\n",
    "\n",
    "    print(\"Filtered %d overlaps from test.\" % filtered)\n",
    "    targets = targets[i:]\n",
    "    _update_scaffolds(test, used)\n",
    "\n",
    "    # Gather val properties, without molecule overlap in test.\n",
    "    val = []\n",
    "    filtered = 0\n",
    "    for i, target in enumerate(targets):\n",
    "        if len(val) == num_val:\n",
    "            break\n",
    "        include = True\n",
    "        for active in [0, 1]:\n",
    "            samples = _choose(dataset[target][active], used)\n",
    "            if not samples:\n",
    "                include = False\n",
    "                continue\n",
    "            dataset[target][active] = samples\n",
    "        if include:\n",
    "            val.append(target)\n",
    "        else:\n",
    "            filtered += 1\n",
    "\n",
    "    print(\"Filtered %d overlaps from val.\" % filtered)\n",
    "    targets = targets[i:]\n",
    "    _update_scaffolds(val, used)\n",
    "\n",
    "    # Gather train properties, without molecule overlap in val/test.\n",
    "    train = []\n",
    "    filtered = 0\n",
    "    for target in targets:\n",
    "        if len(train) == num_train:\n",
    "            break\n",
    "        include = True\n",
    "        for active in [0, 1]:\n",
    "            samples = _choose(dataset[target][active], used)\n",
    "            if not samples:\n",
    "                include = False\n",
    "                continue\n",
    "            dataset[target][active] = samples\n",
    "        if include:\n",
    "            train.append(target)\n",
    "        else:\n",
    "            filtered += 1\n",
    "\n",
    "    print(\"Filtered %d overlaps from train.\" % filtered)\n",
    "\n",
    "    splits = {\"val\": val, \"test\": test, \"train\": train}\n",
    "    for split, keys in splits.items():\n",
    "        print(\"%s: %d\" % (split, len(keys)))\n",
    "\n",
    "    return splits\n",
    "    \n",
    "dataset = load_dataset(\"/data/scratch/fisch/third_party/chemprop/data/chembl.csv\", 250)"
   ]
  },
  {
   "cell_type": "code",
   "execution_count": 32,
   "metadata": {},
   "outputs": [
    {
     "name": "stdout",
     "output_type": "stream",
     "text": [
      "Filtered 0 overlaps from test.\n",
      "Filtered 2 overlaps from val.\n",
      "Filtered 75 overlaps from train.\n",
      "val: 25\n",
      "test: 25\n",
      "train: 104\n"
     ]
    }
   ],
   "source": [
    "import copy\n",
    "splits = make_splits(copy.deepcopy(dataset), 25, 25, 200, 200)"
   ]
  },
  {
   "cell_type": "code",
   "execution_count": 21,
   "metadata": {},
   "outputs": [
    {
     "data": {
      "text/plain": [
       "28000"
      ]
     },
     "execution_count": 21,
     "metadata": {},
     "output_type": "execute_result"
    }
   ],
   "source": [
    "70 * 200 * 2"
   ]
  },
  {
   "cell_type": "code",
   "execution_count": 25,
   "metadata": {},
   "outputs": [
    {
     "data": {
      "text/plain": [
       "0.25"
      ]
     },
     "execution_count": 25,
     "metadata": {},
     "output_type": "execute_result"
    }
   ],
   "source": [
    "35 / 140"
   ]
  },
  {
   "cell_type": "code",
   "execution_count": 23,
   "metadata": {},
   "outputs": [
    {
     "data": {
      "text/plain": [
       "0.15384615384615385"
      ]
     },
     "execution_count": 23,
     "metadata": {},
     "output_type": "execute_result"
    }
   ],
   "source": [
    "20 / 130"
   ]
  },
  {
   "cell_type": "code",
   "execution_count": null,
   "metadata": {},
   "outputs": [],
   "source": []
  }
 ],
 "metadata": {
  "kernelspec": {
   "display_name": "Python 3",
   "language": "python",
   "name": "python3"
  },
  "language_info": {
   "codemirror_mode": {
    "name": "ipython",
    "version": 3
   },
   "file_extension": ".py",
   "mimetype": "text/x-python",
   "name": "python",
   "nbconvert_exporter": "python",
   "pygments_lexer": "ipython3",
   "version": "3.6.6"
  }
 },
 "nbformat": 4,
 "nbformat_minor": 4
}
